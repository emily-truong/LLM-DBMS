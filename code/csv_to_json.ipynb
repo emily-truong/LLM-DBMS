{
 "cells": [
  {
   "cell_type": "code",
   "execution_count": 1,
   "id": "044f8b88-1f0a-40f1-a4d0-50880ad7aa2b",
   "metadata": {},
   "outputs": [],
   "source": [
    "import csv, json"
   ]
  },
  {
   "cell_type": "markdown",
   "id": "83dfc369-e5f8-40be-95f4-fec9dc878d1b",
   "metadata": {},
   "source": [
    "# Converting CSV data to JSON format"
   ]
  },
  {
   "cell_type": "markdown",
   "id": "21832ab9-8779-415d-b559-a495b7d71f21",
   "metadata": {},
   "source": [
    "### pokemon_db"
   ]
  },
  {
   "cell_type": "code",
   "execution_count": 13,
   "id": "eb29102b-c434-4c70-8fad-6faa94a11de5",
   "metadata": {},
   "outputs": [],
   "source": [
    "with open(\"../database_data/csv_files/pokemon_db/pokemon.csv\", mode=\"r\", encoding=\"utf-8\") as pokemon:\n",
    "    reader = csv.DictReader(pokemon)\n",
    "    with open(\"../database_data/MongoDB_json/pokemon_db/pokemon.json\", \"w\", encoding=\"utf-8\") as f1:\n",
    "        for row in reader:\n",
    "            json.dump(row, f1)\n",
    "            f1.write(\"\\n\")"
   ]
  },
  {
   "cell_type": "code",
   "execution_count": 15,
   "id": "f8830a6e-f0b3-414a-8f92-7b1e132de3cd",
   "metadata": {},
   "outputs": [],
   "source": [
    "with open(\"../database_data/csv_files/pokemon_db/pokemon_types.csv\", mode=\"r\", encoding=\"utf-8\") as pokemon_types:\n",
    "    reader = csv.DictReader(pokemon_types)\n",
    "    with open(\"../database_data/MongoDB_json/pokemon_db/pokemon_types.json\", \"w\", encoding=\"utf-8\") as f2:\n",
    "        for row in reader:\n",
    "            json.dump(row, f2)\n",
    "            f2.write(\"\\n\")"
   ]
  },
  {
   "cell_type": "code",
   "execution_count": 17,
   "id": "c4d345ba-eb0a-4f27-a90b-ff6fdbfa8570",
   "metadata": {},
   "outputs": [],
   "source": [
    "with open(\"../database_data/csv_files/pokemon_db/base_stats.csv\", mode=\"r\", encoding=\"utf-8\") as base_stats:\n",
    "    reader = csv.DictReader(base_stats)\n",
    "    with open(\"../database_data/MongoDB_json/pokemon_db/base_stats.json\", \"w\", encoding=\"utf-8\") as f3:\n",
    "        for row in reader:\n",
    "            json.dump(row, f3)\n",
    "            f3.write(\"\\n\")"
   ]
  },
  {
   "cell_type": "code",
   "execution_count": 19,
   "id": "4743e21d-d2d8-4457-a0c2-316499f3c637",
   "metadata": {},
   "outputs": [],
   "source": [
    "with open(\"../database_data/csv_files/pokemon_db/types.csv\", mode=\"r\", encoding=\"utf-8\") as types:\n",
    "    reader = csv.DictReader(types)\n",
    "    with open(\"../database_data/MongoDB_json/pokemon_db/types.json\", \"w\", encoding=\"utf-8\") as f4:\n",
    "        for row in reader:\n",
    "            json.dump(row, f4)\n",
    "            f4.write(\"\\n\")"
   ]
  },
  {
   "cell_type": "markdown",
   "id": "fee583c6-707e-4eea-8f53-6eb5cc8841e3",
   "metadata": {},
   "source": [
    "### sakila"
   ]
  },
  {
   "cell_type": "code",
   "execution_count": 3,
   "id": "111ecfbf-f963-4ab0-b15e-9fbc6a59cb47",
   "metadata": {},
   "outputs": [],
   "source": [
    "with open(\"../database_data/csv_files/sakila/actor.csv\", mode=\"r\", encoding=\"utf-8\") as actor:\n",
    "    reader = csv.DictReader(actor)\n",
    "    with open(\"../database_data/MongoDB_json/sakila/actor.json\", \"w\", encoding=\"utf-8\") as f1:\n",
    "        for row in reader:\n",
    "            json.dump(row, f1)\n",
    "            f1.write(\"\\n\")"
   ]
  },
  {
   "cell_type": "code",
   "execution_count": 5,
   "id": "3e631725-2b55-4641-b817-d0ea71462232",
   "metadata": {},
   "outputs": [],
   "source": [
    "with open(\"../database_data/csv_files/sakila/film_actor.csv\", mode=\"r\", encoding=\"utf-8\") as film_actor:\n",
    "    reader = csv.DictReader(film_actor)\n",
    "    with open(\"../database_data/MongoDB_json/sakila/film_actor.json\", \"w\", encoding=\"utf-8\") as f2:\n",
    "        for row in reader:\n",
    "            json.dump(row, f2)\n",
    "            f2.write(\"\\n\")"
   ]
  },
  {
   "cell_type": "code",
   "execution_count": 7,
   "id": "2e59b2c9-4e8a-43df-bfbe-177b3aea913a",
   "metadata": {},
   "outputs": [],
   "source": [
    "with open(\"../database_data/csv_files/sakila/film.csv\", mode=\"r\", encoding=\"utf-8\") as film:\n",
    "    reader = csv.DictReader(film)\n",
    "    with open(\"../database_data/MongoDB_json/sakila/film.json\", \"w\", encoding=\"utf-8\") as f3:\n",
    "        for row in reader:\n",
    "            json.dump(row, f3)\n",
    "            f3.write(\"\\n\")"
   ]
  },
  {
   "cell_type": "code",
   "execution_count": null,
   "id": "511874de-370d-4479-b20b-5740f8eaa16c",
   "metadata": {},
   "outputs": [],
   "source": []
  }
 ],
 "metadata": {
  "kernelspec": {
   "display_name": "Python 3 (ipykernel)",
   "language": "python",
   "name": "python3"
  },
  "language_info": {
   "codemirror_mode": {
    "name": "ipython",
    "version": 3
   },
   "file_extension": ".py",
   "mimetype": "text/x-python",
   "name": "python",
   "nbconvert_exporter": "python",
   "pygments_lexer": "ipython3",
   "version": "3.12.2"
  }
 },
 "nbformat": 4,
 "nbformat_minor": 5
}
