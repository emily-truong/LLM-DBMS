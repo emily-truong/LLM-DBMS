{
 "cells": [
  {
   "cell_type": "code",
   "execution_count": null,
   "id": "be72eddc-5ff5-4129-b97f-45bbab741118",
   "metadata": {},
   "outputs": [],
   "source": [
    "import csv"
   ]
  },
  {
   "cell_type": "markdown",
   "id": "b79a8fb3-5889-40bf-ad7d-e24257c461ca",
   "metadata": {},
   "source": [
    "### Pokemon data"
   ]
  },
  {
   "cell_type": "code",
   "execution_count": null,
   "id": "097fb5ad-94b5-453b-a02e-933051b66145",
   "metadata": {},
   "outputs": [],
   "source": [
    "def csv_to_sql(csv_file, table_name, sql_file):\n",
    "    # Define columns and their SQL types\n",
    "    columns = {\n",
    "        \"pok_id\": \"INT\",\n",
    "        \"pok_name\": \"TEXT\",\n",
    "        \"pok_height\": \"INT\",\n",
    "        \"pok_weight\": \"INT\",\n",
    "        \"pok_base_experience\": \"INT\"\n",
    "    }\n",
    "\n",
    "    with open(csv_file, newline='', encoding='utf-8') as f:\n",
    "        reader = csv.DictReader(f)\n",
    "\n",
    "        # Create the CREATE TABLE statement\n",
    "        create_stmt = f\"CREATE TABLE {table_name} (\\n\"\n",
    "        create_stmt += \",\\n\".join([f\"  `{col}` {dtype}\" for col, dtype in columns.items()])\n",
    "        create_stmt += \"\\n);\\n\\n\"\n",
    "\n",
    "        insert_stmts = []\n",
    "        for row in reader:\n",
    "            values = []\n",
    "            for col in columns:\n",
    "                val = row[col]\n",
    "                if columns[col] == \"TEXT\":\n",
    "                    val = val.replace(\"'\", \"''\")  # Escape single quotes for SQL\n",
    "                    values.append(f\"'{val}'\")\n",
    "                else:\n",
    "                    values.append(val or 'NULL')  # NULL for missing numeric values\n",
    "            insert_stmt = f\"INSERT INTO {table_name} ({', '.join(columns.keys())}) VALUES ({', '.join(values)});\"\n",
    "            insert_stmts.append(insert_stmt)\n",
    "\n",
    "        with open(sql_file, \"w\", encoding='utf-8') as out:\n",
    "            out.write(create_stmt)\n",
    "            out.write(\"\\n\".join(insert_stmts))"
   ]
  },
  {
   "cell_type": "code",
   "execution_count": null,
   "id": "df701fb9-38d9-4701-9149-7884c461aa8e",
   "metadata": {},
   "outputs": [],
   "source": [
    "csv_to_sql(\"../database_data/csv_files/pokemon_db/pokemon.csv\", \"pokemon\", \"../database_data/MySQL/pokemon.sql\")"
   ]
  },
  {
   "cell_type": "code",
   "execution_count": null,
   "id": "fd9a2c94-08c6-4773-878b-1cd046bb7c87",
   "metadata": {},
   "outputs": [],
   "source": [
    "def csv_to_sql(csv_file, table_name, sql_file):\n",
    "    # Define the schema\n",
    "    columns = {\n",
    "        \"pok_id\": \"INT\",\n",
    "        \"type_id\": \"INT\",\n",
    "        \"slot\": \"INT\"\n",
    "    }\n",
    "\n",
    "    with open(csv_file, newline='', encoding='utf-8') as f:\n",
    "        reader = csv.DictReader(f)\n",
    "\n",
    "        # CREATE TABLE statement\n",
    "        create_stmt = f\"CREATE TABLE {table_name} (\\n\"\n",
    "        create_stmt += \",\\n\".join([f\"  `{col}` {dtype}\" for col, dtype in columns.items()])\n",
    "        create_stmt += \"\\n);\\n\\n\"\n",
    "\n",
    "        insert_stmts = []\n",
    "        for row in reader:\n",
    "            values = [row[col] or 'NULL' for col in columns]  # Handle missing values as NULL\n",
    "            insert_stmt = f\"INSERT INTO {table_name} ({', '.join(columns.keys())}) VALUES ({', '.join(values)});\"\n",
    "            insert_stmts.append(insert_stmt)\n",
    "\n",
    "        # Write to .sql file\n",
    "        with open(sql_file, \"w\", encoding='utf-8') as out:\n",
    "            out.write(create_stmt)\n",
    "            out.write(\"\\n\".join(insert_stmts))"
   ]
  },
  {
   "cell_type": "code",
   "execution_count": null,
   "id": "82979502-333a-4c09-a139-d45078764248",
   "metadata": {},
   "outputs": [],
   "source": [
    "csv_to_sql(\"../database_data/csv_files/pokemon_db/pokemon_types.csv\", \"pokemon_types\", \"../database_data/MySQL/pokemon_types.sql\")"
   ]
  },
  {
   "cell_type": "code",
   "execution_count": null,
   "id": "8e417251-f3f7-49b1-b83d-9322ae7f46e9",
   "metadata": {},
   "outputs": [],
   "source": [
    "def csv_to_sql(csv_file, table_name, sql_file):\n",
    "    # Define the schema\n",
    "    columns = {\n",
    "        \"type_id\": \"INT\",\n",
    "        \"type_name\": \"TEXT\",\n",
    "        \"damage_type_id\": \"INT\"\n",
    "    }\n",
    "\n",
    "    with open(csv_file, newline='', encoding='utf-8') as f:\n",
    "        reader = csv.DictReader(f)\n",
    "\n",
    "        # Create the CREATE TABLE statement\n",
    "        create_stmt = f\"CREATE TABLE {table_name} (\\n\"\n",
    "        create_stmt += \",\\n\".join([f\"  `{col}` {dtype}\" for col, dtype in columns.items()])\n",
    "        create_stmt += \"\\n);\\n\\n\"\n",
    "\n",
    "        insert_stmts = []\n",
    "        for row in reader:\n",
    "            values = []\n",
    "            for col in columns:\n",
    "                val = row[col]\n",
    "                if columns[col] == \"TEXT\":\n",
    "                    val = val.replace(\"'\", \"''\")  # Escape single quotes for SQL\n",
    "                    values.append(f\"'{val}'\")\n",
    "                else:\n",
    "                    values.append(val or 'NULL')  # NULL for missing numeric values\n",
    "            insert_stmt = f\"INSERT INTO {table_name} ({', '.join(columns.keys())}) VALUES ({', '.join(values)});\"\n",
    "            insert_stmts.append(insert_stmt)\n",
    "\n",
    "        with open(sql_file, \"w\", encoding='utf-8') as out:\n",
    "            out.write(create_stmt)\n",
    "            out.write(\"\\n\".join(insert_stmts))"
   ]
  },
  {
   "cell_type": "code",
   "execution_count": null,
   "id": "031b36d8-e2d5-4c13-b1c6-850553526258",
   "metadata": {},
   "outputs": [],
   "source": [
    "csv_to_sql(\"../database_data/csv_files/pokemon_db/types.csv\", \"types\", \"../database_data/MySQL/types.sql\")"
   ]
  },
  {
   "cell_type": "code",
   "execution_count": null,
   "id": "32c17342-917b-43b2-8f06-49ea726dd2e6",
   "metadata": {},
   "outputs": [],
   "source": [
    "def csv_to_sql(csv_file, table_name, sql_file):\n",
    "    # Define the schema\n",
    "    columns = {\n",
    "        \"pok_id\": \"INT\",\n",
    "        \"b_hp\": \"INT\",\n",
    "        \"b_atk\": \"INT\",\n",
    "        \"b_def\": \"INT\",\n",
    "        \"b_sp_atk\": \"INT\",\n",
    "        \"b_sp_def\": \"INT\",\n",
    "        \"b_speed\": \"INT\"\n",
    "    }\n",
    "\n",
    "    with open(csv_file, newline='', encoding='utf-8') as f:\n",
    "        reader = csv.DictReader(f)\n",
    "\n",
    "        # CREATE TABLE statement\n",
    "        create_stmt = f\"CREATE TABLE {table_name} (\\n\"\n",
    "        create_stmt += \",\\n\".join([f\"  `{col}` {dtype}\" for col, dtype in columns.items()])\n",
    "        create_stmt += \"\\n);\\n\\n\"\n",
    "\n",
    "        insert_stmts = []\n",
    "        for row in reader:\n",
    "            values = [row[col] or 'NULL' for col in columns]  # Handle missing values as NULL\n",
    "            insert_stmt = f\"INSERT INTO {table_name} ({', '.join(columns.keys())}) VALUES ({', '.join(values)});\"\n",
    "            insert_stmts.append(insert_stmt)\n",
    "\n",
    "        # Write to .sql file\n",
    "        with open(sql_file, \"w\", encoding='utf-8') as out:\n",
    "            out.write(create_stmt)\n",
    "            out.write(\"\\n\".join(insert_stmts))"
   ]
  },
  {
   "cell_type": "code",
   "execution_count": null,
   "id": "3d6299d0-9d3f-447d-9ddf-3f713d30fd16",
   "metadata": {},
   "outputs": [],
   "source": [
    "csv_to_sql(\"../database_data/csv_files/pokemon_db/base_stats.csv\", \"base_stats\", \"../database_data/MySQL/base_stats.sql\")"
   ]
  },
  {
   "cell_type": "markdown",
   "id": "a6819394-a087-4c86-8be5-db8cae5688dd",
   "metadata": {},
   "source": [
    "### sakila data"
   ]
  },
  {
   "cell_type": "code",
   "execution_count": null,
   "id": "27b264ad-ef6c-4cea-89da-8a070228c007",
   "metadata": {},
   "outputs": [],
   "source": [
    "def csv_to_sql(csv_file, table_name, sql_file):\n",
    "    # Define columns and their SQL types\n",
    "    columns = {\n",
    "        \"actor_id\": \"INT\",\n",
    "        \"first_name\": \"TEXT\",\n",
    "        \"last_name\": \"TEXT\"\n",
    "    }\n",
    "\n",
    "    with open(csv_file, newline='', encoding='utf-8') as f:\n",
    "        reader = csv.DictReader(f)\n",
    "\n",
    "        # Create the CREATE TABLE statement\n",
    "        create_stmt = f\"CREATE TABLE {table_name} (\\n\"\n",
    "        create_stmt += \",\\n\".join([f\"  `{col}` {dtype}\" for col, dtype in columns.items()])\n",
    "        create_stmt += \"\\n);\\n\\n\"\n",
    "\n",
    "        insert_stmts = []\n",
    "        for row in reader:\n",
    "            values = []\n",
    "            for col in columns:\n",
    "                val = row[col]\n",
    "                if columns[col] == \"TEXT\":\n",
    "                    val = val.replace(\"'\", \"''\")  # Escape single quotes for SQL\n",
    "                    values.append(f\"'{val}'\")\n",
    "                else:\n",
    "                    values.append(val or 'NULL')  # NULL for missing numeric values\n",
    "            insert_stmt = f\"INSERT INTO {table_name} ({', '.join(columns.keys())}) VALUES ({', '.join(values)});\"\n",
    "            insert_stmts.append(insert_stmt)\n",
    "\n",
    "        with open(sql_file, \"w\", encoding='utf-8') as out:\n",
    "            out.write(create_stmt)\n",
    "            out.write(\"\\n\".join(insert_stmts))"
   ]
  },
  {
   "cell_type": "code",
   "execution_count": null,
   "id": "04783907-cc6c-4251-99b3-e9169d1bc090",
   "metadata": {},
   "outputs": [],
   "source": [
    "csv_to_sql(\"../database_data/csv_files/sakila/actor.csv\", \"actor\", \"../database_data/MySQL/actor.sql\")"
   ]
  },
  {
   "cell_type": "code",
   "execution_count": null,
   "id": "f06209c1-407d-44ea-864a-34ca9aa76a0f",
   "metadata": {},
   "outputs": [],
   "source": [
    "def csv_to_sql(csv_file, table_name, sql_file):\n",
    "    # Define columns and their SQL types\n",
    "    columns = {\n",
    "        \"actor_id\": \"INT\",\n",
    "        \"film_id\": \"INT\"\n",
    "    }\n",
    "\n",
    "    with open(csv_file, newline='', encoding='utf-8') as f:\n",
    "        reader = csv.DictReader(f)\n",
    "\n",
    "        # Create the CREATE TABLE statement\n",
    "        create_stmt = f\"CREATE TABLE {table_name} (\\n\"\n",
    "        create_stmt += \",\\n\".join([f\"  `{col}` {dtype}\" for col, dtype in columns.items()])\n",
    "        create_stmt += \"\\n);\\n\\n\"\n",
    "\n",
    "        insert_stmts = []\n",
    "        for row in reader:\n",
    "            values = []\n",
    "            for col in columns:\n",
    "                val = row[col]\n",
    "                if columns[col] == \"TEXT\":\n",
    "                    val = val.replace(\"'\", \"''\")  # Escape single quotes for SQL\n",
    "                    values.append(f\"'{val}'\")\n",
    "                else:\n",
    "                    values.append(val or 'NULL')  # NULL for missing numeric values\n",
    "            insert_stmt = f\"INSERT INTO {table_name} ({', '.join(columns.keys())}) VALUES ({', '.join(values)});\"\n",
    "            insert_stmts.append(insert_stmt)\n",
    "\n",
    "        with open(sql_file, \"w\", encoding='utf-8') as out:\n",
    "            out.write(create_stmt)\n",
    "            out.write(\"\\n\".join(insert_stmts))"
   ]
  },
  {
   "cell_type": "code",
   "execution_count": null,
   "id": "21ac2454-7908-4cfa-a435-4d9747af1594",
   "metadata": {},
   "outputs": [],
   "source": [
    "csv_to_sql(\"../database_data/csv_files/sakila/film_actor.csv\", \"film_actor\", \"../database_data/MySQL/film_actor.sql\")"
   ]
  },
  {
   "cell_type": "code",
   "execution_count": null,
   "id": "3fedab3e-77f8-4aee-a106-409b0961c0d1",
   "metadata": {},
   "outputs": [],
   "source": [
    "def csv_to_sql(csv_file, table_name, sql_file):\n",
    "    # Define columns and their SQL types\n",
    "    columns = {\n",
    "        \"film_id\": \"INT\",\n",
    "        \"title\": \"TEXT\",\n",
    "        \"description\": \"TEXT\",\n",
    "        \"release_year\": \"INT\",\n",
    "        \"language_id\": \"INT\",\n",
    "        \"original_language_id\": \"INT\",\n",
    "        \"rental_duration\": \"INT\",\n",
    "        \"rental_rate\": \"FLOAT\",\n",
    "        \"length\": \"INT\",\n",
    "        \"replacement_cost\": \"FLOAT\",\n",
    "        \"rating\": \"TEXT\",\n",
    "        \"special_features\": \"TEXT\",\n",
    "    }\n",
    "\n",
    "    with open(csv_file, newline='', encoding='utf-8') as f:\n",
    "        reader = csv.DictReader(f)\n",
    "\n",
    "        # Create the CREATE TABLE statement\n",
    "        create_stmt = f\"CREATE TABLE {table_name} (\\n\"\n",
    "        create_stmt += \",\\n\".join([f\"  `{col}` {dtype}\" for col, dtype in columns.items()])\n",
    "        create_stmt += \"\\n);\\n\\n\"\n",
    "\n",
    "        insert_stmts = []\n",
    "        for row in reader:\n",
    "            values = []\n",
    "            for col in columns:\n",
    "                val = row[col]\n",
    "                if columns[col] == \"TEXT\":\n",
    "                    val = val.replace(\"'\", \"''\")  # Escape single quotes for SQL\n",
    "                    values.append(f\"'{val}'\")\n",
    "                else:\n",
    "                    values.append(val or 'NULL')  # NULL for missing numeric values\n",
    "            insert_stmt = f\"INSERT INTO {table_name} ({', '.join(columns.keys())}) VALUES ({', '.join(values)});\"\n",
    "            insert_stmts.append(insert_stmt)\n",
    "\n",
    "        with open(sql_file, \"w\", encoding='utf-8') as out:\n",
    "            out.write(create_stmt)\n",
    "            out.write(\"\\n\".join(insert_stmts))"
   ]
  },
  {
   "cell_type": "code",
   "execution_count": null,
   "id": "dc29fe42-4e11-41dc-9ea5-6b3e56d4251f",
   "metadata": {},
   "outputs": [],
   "source": [
    "csv_to_sql(\"../database_data/csv_files/sakila/film.csv\", \"film\", \"../database_data/MySQL/film.sql\")"
   ]
  },
  {
   "cell_type": "code",
   "execution_count": null,
   "id": "cc73cb33-2945-42af-9fc1-9f2b00cde1df",
   "metadata": {},
   "outputs": [],
   "source": []
  }
 ],
 "metadata": {
  "kernelspec": {
   "display_name": "Python 3 (ipykernel)",
   "language": "python",
   "name": "python3"
  },
  "language_info": {
   "codemirror_mode": {
    "name": "ipython",
    "version": 3
   },
   "file_extension": ".py",
   "mimetype": "text/x-python",
   "name": "python",
   "nbconvert_exporter": "python",
   "pygments_lexer": "ipython3",
   "version": "3.12.2"
  }
 },
 "nbformat": 4,
 "nbformat_minor": 5
}
